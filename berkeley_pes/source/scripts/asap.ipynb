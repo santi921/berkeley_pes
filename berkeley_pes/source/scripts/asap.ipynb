{
 "cells": [
  {
   "cell_type": "code",
   "execution_count": 1,
   "metadata": {},
   "outputs": [
    {
     "name": "stderr",
     "output_type": "stream",
     "text": [
      "/home/santiagovargas/anaconda3/envs/rxnrep/lib/python3.8/site-packages/tqdm/auto.py:22: TqdmWarning: IProgress not found. Please update jupyter and ipywidgets. See https://ipywidgets.readthedocs.io/en/stable/user_install.html\n",
      "  from .autonotebook import tqdm as notebook_tqdm\n"
     ]
    }
   ],
   "source": [
    "import numpy as np\n",
    "%matplotlib inline\n",
    "import asaplib\n",
    "from asaplib.data import ASAPXYZ\n",
    "from asaplib.plot import Plotters\n",
    "from asaplib.reducedim import Dimension_Reducers\n"
   ]
  },
  {
   "cell_type": "code",
   "execution_count": 2,
   "metadata": {},
   "outputs": [
    {
     "name": "stdout",
     "output_type": "stream",
     "text": [
      "load xyz file:  ../../../data/complete.xyz , a total of  4690 frames , a total of  91335 atoms , with elements:  [8, 22] .\n"
     ]
    }
   ],
   "source": [
    "asapxyz = ASAPXYZ(\n",
    "    \"../../../data/complete.xyz\", periodic=True\n",
    ")  # periodic=False otherwise\n",
    "\n",
    "# load the tags (optional, you can use these to annotate the structures)\n",
    "tags = np.loadtxt(\"../../../data/ranking_complete\", dtype=\"str\")\n",
    "#  import some reference order parameter for the structures\n",
    "enthalpy = np.array(tags[:, 3], float)\n"
   ]
  },
  {
   "cell_type": "code",
   "execution_count": 3,
   "metadata": {},
   "outputs": [
    {
     "name": "stdout",
     "output_type": "stream",
     "text": [
      "load xyz file:  ../../../data/test_parser.xyz , a total of  2755 frames , a total of  42470 atoms , with elements:  [1, 3, 6, 8, 9, 12] .\n"
     ]
    }
   ],
   "source": [
    "asapxyz_test = ASAPXYZ(\n",
    "    \"../../../data/test_parser.xyz\", periodic=True\n",
    ")  # periodic=False otherwise\n"
   ]
  },
  {
   "cell_type": "code",
   "execution_count": 4,
   "metadata": {},
   "outputs": [
    {
     "name": "stdout",
     "output_type": "stream",
     "text": [
      "number of frames: 2755\n"
     ]
    }
   ],
   "source": [
    "n_frames = asapxyz_test.get_num_frames()\n",
    "print(\"number of frames: {}\".format(n_frames))\n",
    "energies = asapxyz_test.get_property(\n",
    "    \"free_energy\", sbs=[i for i in range(n_frames)]\n",
    ")  # this can get energy\n"
   ]
  },
  {
   "cell_type": "code",
   "execution_count": 40,
   "metadata": {},
   "outputs": [],
   "source": [
    "# specify the parameters\n",
    "soap_spec = {\n",
    "    \"soap1\": {\n",
    "        \"type\": \"SOAP\",\n",
    "        \"cutoff\": 4.0,\n",
    "        \"n\": 6,\n",
    "        \"l\": 6,\n",
    "        \"atom_gaussian_width\": 0.5,\n",
    "        \"crossover\": False,\n",
    "        \"rbf\": \"gto\",\n",
    "    }\n",
    "}\n",
    "soap_specific_spec = {\n",
    "    \"soap1\": {\n",
    "        \"type\": \"SOAP\",\n",
    "        \"cutoff\": 10.0,\n",
    "        \"n\": 6,\n",
    "        \"l\": 6,\n",
    "        \"atom_gaussian_width\": 0.5,\n",
    "        \"crossover\": False,\n",
    "        \"rbf\": \"gto\",\n",
    "    }\n",
    "}\n",
    "\n",
    "reducer_spec = {\n",
    "    \"reducer1\": {\n",
    "        \"reducer_type\": \"average\",  # [average], [sum], [moment_average], [moment_sum]\n",
    "        \"element_wise\": False,\n",
    "    }\n",
    "}\n",
    "\n",
    "desc_spec = {\n",
    "    \"avgsoap\": {\"atomic_descriptor\": soap_spec, \"reducer_function\": reducer_spec}\n",
    "}\n",
    "desc_spec_custom = {\n",
    "    \"avgsoap\": {\"atomic_descriptor\": soap_specific_spec, \"reducer_function\": reducer_spec}\n",
    "}"
   ]
  },
  {
   "cell_type": "code",
   "execution_count": 41,
   "metadata": {},
   "outputs": [
    {
     "name": "stdout",
     "output_type": "stream",
     "text": [
      "Using SOAP Descriptors ...\n"
     ]
    },
    {
     "name": "stderr",
     "output_type": "stream",
     "text": [
      "[Parallel(n_jobs=10)]: Using backend LokyBackend with 10 concurrent workers.\n",
      "[Parallel(n_jobs=10)]: Done  30 tasks      | elapsed:    0.7s\n",
      "[Parallel(n_jobs=10)]: Done 3210 tasks      | elapsed:    1.8s\n",
      "[Parallel(n_jobs=10)]: Done 4690 out of 4690 | elapsed:    2.1s finished\n",
      "[Parallel(n_jobs=10)]: Using backend LokyBackend with 10 concurrent workers.\n",
      "[Parallel(n_jobs=10)]: Done  40 tasks      | elapsed:    0.0s\n"
     ]
    },
    {
     "name": "stdout",
     "output_type": "stream",
     "text": [
      "Using SOAP Descriptors ...\n"
     ]
    },
    {
     "name": "stderr",
     "output_type": "stream",
     "text": [
      "[Parallel(n_jobs=10)]: Done 2620 tasks      | elapsed:    1.0s\n",
      "[Parallel(n_jobs=10)]: Done 2736 out of 2755 | elapsed:    1.0s remaining:    0.0s\n",
      "[Parallel(n_jobs=10)]: Done 2755 out of 2755 | elapsed:    1.0s finished\n"
     ]
    }
   ],
   "source": [
    "# compute atomic descriptors only\n",
    "asapxyz.compute_atomic_descriptors(\n",
    "    desc_spec_dict=soap_spec, sbs=[], tag=\"tio2-atomic\", n_process=10\n",
    ")\n",
    "#asapxyz_test.compute_atomic_descriptors(\n",
    "#    desc_spec_dict=soap_spec, sbs=[], tag=\"rapter-trax\", n_process=10\n",
    "#)\n",
    "\n",
    "asapxyz_test.compute_atomic_descriptors(\n",
    "    desc_spec_dict=soap_specific_spec, sbs=[], tag=\"rapter-trax\", n_process=10\n",
    ")\n"
   ]
  },
  {
   "cell_type": "code",
   "execution_count": 42,
   "metadata": {},
   "outputs": [
    {
     "name": "stderr",
     "output_type": "stream",
     "text": [
      "[Parallel(n_jobs=10)]: Using backend LokyBackend with 10 concurrent workers.\n",
      "[Parallel(n_jobs=10)]: Done  40 tasks      | elapsed:    0.0s\n"
     ]
    },
    {
     "name": "stdout",
     "output_type": "stream",
     "text": [
      "Using SOAP Descriptors ...\n"
     ]
    },
    {
     "name": "stderr",
     "output_type": "stream",
     "text": [
      "[Parallel(n_jobs=10)]: Done 2620 tasks      | elapsed:    0.9s\n",
      "[Parallel(n_jobs=10)]: Done 2736 out of 2755 | elapsed:    0.9s remaining:    0.0s\n",
      "[Parallel(n_jobs=10)]: Done 2755 out of 2755 | elapsed:    0.9s finished\n"
     ]
    }
   ],
   "source": [
    "asapxyz_test.compute_atomic_descriptors(\n",
    "    desc_spec_dict=soap_specific_spec, sbs=[], tag=\"rapter-trax\", n_process=10\n",
    ")\n"
   ]
  },
  {
   "cell_type": "code",
   "execution_count": 43,
   "metadata": {},
   "outputs": [],
   "source": [
    "# if you want to retrieve the atomic descriptors computed earlier\n",
    "dm_atomic = asapxyz.fetch_computed_atomic_descriptors([\"soap1\"])\n",
    "dm_test_atomic = asapxyz_test.fetch_computed_atomic_descriptors([\"soap1\"])\n"
   ]
  },
  {
   "cell_type": "code",
   "execution_count": 31,
   "metadata": {},
   "outputs": [
    {
     "name": "stdout",
     "output_type": "stream",
     "text": [
      "dict_keys(['soap1', 'soap2'])\n"
     ]
    }
   ],
   "source": [
    "print(asapxyz_test.atomic_desc[0].keys())"
   ]
  },
  {
   "cell_type": "code",
   "execution_count": 44,
   "metadata": {},
   "outputs": [
    {
     "name": "stdout",
     "output_type": "stream",
     "text": [
      "Using SOAP Descriptors ...\n",
      "Using Atomic_2_Global_Average reducer ...\n"
     ]
    },
    {
     "name": "stderr",
     "output_type": "stream",
     "text": [
      "[Parallel(n_jobs=4)]: Using backend LokyBackend with 4 concurrent workers.\n",
      "[Parallel(n_jobs=4)]: Done  88 tasks      | elapsed:    0.7s\n",
      "[Parallel(n_jobs=4)]: Done 4690 out of 4690 | elapsed:    3.6s finished\n",
      "[Parallel(n_jobs=4)]: Using backend LokyBackend with 4 concurrent workers.\n",
      "[Parallel(n_jobs=4)]: Done 312 tasks      | elapsed:    0.2s\n"
     ]
    },
    {
     "name": "stdout",
     "output_type": "stream",
     "text": [
      "Using SOAP Descriptors ...\n",
      "Using Atomic_2_Global_Average reducer ...\n"
     ]
    },
    {
     "name": "stderr",
     "output_type": "stream",
     "text": [
      "[Parallel(n_jobs=4)]: Done 2755 out of 2755 | elapsed:    1.3s finished\n"
     ]
    }
   ],
   "source": [
    "# compute descriptors for the whole structures\n",
    "asapxyz.compute_global_descriptors(\n",
    "    desc_spec_dict=desc_spec,\n",
    "    sbs=[],\n",
    "    keep_atomic=False,  # set to True to keep the atomic descriptors\n",
    "    tag=\"tio2\",\n",
    "    n_process=4,\n",
    ")\n",
    "\n",
    "asapxyz_test.compute_global_descriptors(\n",
    "    desc_spec_dict=desc_spec_custom,\n",
    "    sbs=[],\n",
    "    keep_atomic=False,  # set to True to keep the atomic descriptors\n",
    "    tag=\"rapter\",\n",
    "    n_process=4,\n",
    ")\n",
    "# can use asapxyz.fetch_computed_atomic_descriptors(['soap1']) if keep_atomic=True\n"
   ]
  },
  {
   "cell_type": "code",
   "execution_count": 45,
   "metadata": {},
   "outputs": [],
   "source": [
    "reduce_dict = {}\n",
    "reduce_dict[\"kpca\"] = {\n",
    "    \"type\": \"SPARSE_KPCA\",\n",
    "    \"parameter\": {\n",
    "        \"n_components\": 10,\n",
    "        \"n_sparse\": -1,  # no sparsification\n",
    "        \"kernel\": {\"first_kernel\": {\"type\": \"linear\"}},\n",
    "    },\n",
    "}\n"
   ]
  },
  {
   "cell_type": "code",
   "execution_count": 46,
   "metadata": {},
   "outputs": [
    {
     "name": "stdout",
     "output_type": "stream",
     "text": [
      "Using kernel PCA (sparsified) ...\n",
      "Using kernel PCA (sparsified) ...\n"
     ]
    }
   ],
   "source": [
    "dreducer = Dimension_Reducers(reduce_dict)\n",
    "dreducer_test = Dimension_Reducers(reduce_dict)\n"
   ]
  },
  {
   "cell_type": "code",
   "execution_count": 51,
   "metadata": {},
   "outputs": [
    {
     "data": {
      "text/plain": [
       "<asaplib.data.xyz.ASAPXYZ at 0x7f3b9d977cd0>"
      ]
     },
     "execution_count": 51,
     "metadata": {},
     "output_type": "execute_result"
    }
   ],
   "source": []
  },
  {
   "cell_type": "code",
   "execution_count": 47,
   "metadata": {},
   "outputs": [
    {
     "name": "stdout",
     "output_type": "stream",
     "text": [
      "Not using any sparsification\n",
      "Not using any sparsification\n"
     ]
    }
   ],
   "source": [
    "dm = asapxyz.fetch_computed_descriptors([\"avgsoap\"])\n",
    "proj = dreducer.fit_transform(dm)\n",
    "\n",
    "dm = asapxyz_test.fetch_computed_descriptors([\"avgsoap\"])\n",
    "proj_test = dreducer_test.fit_transform(dm)\n"
   ]
  },
  {
   "cell_type": "code",
   "execution_count": 48,
   "metadata": {},
   "outputs": [
    {
     "name": "stdout",
     "output_type": "stream",
     "text": [
      "Using scatter plot ...\n"
     ]
    },
    {
     "data": {
      "image/png": "[encoded data removed]",
      "text/plain": [
       "<Figure size 633.6x576 with 2 Axes>"
      ]
     },
     "metadata": {
      "needs_background": "light"
     },
     "output_type": "display_data"
    }
   ],
   "source": [
    "fig_spec = {\n",
    "    \"outfile\": None,\n",
    "    \"show\": False,\n",
    "    \"title\": None,\n",
    "    \"size\": [8 * 1.1, 8],\n",
    "    \"cmap\": \"gnuplot\",\n",
    "    \"xlabel\": \"PC1\",\n",
    "    \"ylabel\": \"PC2\",\n",
    "    \"components\": {\n",
    "        \"first_p\": {\n",
    "            \"type\": \"scatter\",\n",
    "            \"clabel\": \"color\",\n",
    "            \"vmin\": None,\n",
    "            \"vmax\": None,\n",
    "        }\n",
    "    },\n",
    "}\n",
    "\n",
    "asap_plot = Plotters(fig_spec)\n",
    "\n",
    "# plotcolor = enthalpy[:]\n",
    "plotcolor = asapxyz_test.get_property(\"free_energy\", sbs=[i for i in range(n_frames)])\n",
    "asap_plot.plot(proj_test[:, [1, 0]], plotcolor)\n",
    "# one can use asap_plot.plot(proj[:, [1,0]], plotcolor, tags) to annotate the structures using the tags\n"
   ]
  },
  {
   "cell_type": "code",
   "execution_count": 14,
   "metadata": {},
   "outputs": [
    {
     "data": {
      "text/plain": [
       "(2755, 2)"
      ]
     },
     "execution_count": 14,
     "metadata": {},
     "output_type": "execute_result"
    }
   ],
   "source": [
    "proj_test[:, [0, 1]].shape\n"
   ]
  },
  {
   "cell_type": "code",
   "execution_count": 49,
   "metadata": {},
   "outputs": [],
   "source": [
    "# now we sparsify\n",
    "from asaplib.compressor import Sparsifier\n",
    "\n",
    "# mode options\n",
    "n_total = proj_test[:, [0, 1]].shape[0]\n",
    "modes = [\"fps\", \"cur\", \"random\", \"sequential\"]\n",
    "sparser = Sparsifier(sparse_mode=modes[0])\n",
    "sparse_inds = sparser.sparsify(proj_test[:], n_or_ratio=1000, sparse_param=0)\n"
   ]
  },
  {
   "cell_type": "code",
   "execution_count": 50,
   "metadata": {},
   "outputs": [
    {
     "name": "stdout",
     "output_type": "stream",
     "text": [
      "Using scatter plot ...\n"
     ]
    },
    {
     "data": {
      "image/png": "[encoded data removed]",
      "text/plain": [
       "<Figure size 633.6x576 with 2 Axes>"
      ]
     },
     "metadata": {
      "needs_background": "light"
     },
     "output_type": "display_data"
    }
   ],
   "source": [
    "plotcolor = asapxyz_test.get_property(\"free_energy\", sbs=[i for i in sparse_inds])\n",
    "kde_space = proj_test[sparse_inds]\n",
    "kde_space = kde_space[:, [1, 0]]\n",
    "asap_plot = Plotters(fig_spec)\n",
    "asap_plot.plot(kde_space, plotcolor)\n"
   ]
  },
  {
   "cell_type": "code",
   "execution_count": null,
   "metadata": {},
   "outputs": [],
   "source": []
  }
 ],
 "metadata": {
  "kernelspec": {
   "display_name": "Python 3 (ipykernel)",
   "language": "python",
   "name": "python3"
  },
  "language_info": {
   "codemirror_mode": {
    "name": "ipython",
    "version": 3
   },
   "file_extension": ".py",
   "mimetype": "text/x-python",
   "name": "python",
   "nbconvert_exporter": "python",
   "pygments_lexer": "ipython3",
   "version": "3.8.10"
  },
  "vscode": {
   "interpreter": {
    "hash": "2d7fa454e92ce888809e7054028a7bf21d93208928597b6adf89c5751afedf5f"
   }
  }
 },
 "nbformat": 4,
 "nbformat_minor": 2
}
