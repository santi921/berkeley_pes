{
 "cells": [
  {
   "cell_type": "code",
   "execution_count": 4,
   "metadata": {},
   "outputs": [],
   "source": [
    "import numpy as np \n",
    "import pandas as pd\n",
    "from berkeley_pes.source.utils.data import *"
   ]
  },
  {
   "cell_type": "code",
   "execution_count": 7,
   "metadata": {},
   "outputs": [],
   "source": [
    "file_rapter = \"../../../data/20230414_rapter_tracks_initial.json\"\n",
    "file_libe = \"../../../data/tasks_opt_trajectories_partial.json\"\n",
    "file_test = \"../../../data/test_rapter.json\""
   ]
  },
  {
   "cell_type": "code",
   "execution_count": 9,
   "metadata": {},
   "outputs": [],
   "source": [
    "df_test = pd.read_json(file_test)   "
   ]
  },
  {
   "cell_type": "code",
   "execution_count": 28,
   "metadata": {},
   "outputs": [
    {
     "data": {
      "text/plain": [
       "-392.0585894495"
      ]
     },
     "execution_count": 28,
     "metadata": {},
     "output_type": "execute_result"
    }
   ],
   "source": [
    "df_test.energy_trajectory.iloc[-1][-1]"
   ]
  },
  {
   "cell_type": "code",
   "execution_count": 26,
   "metadata": {},
   "outputs": [
    {
     "data": {
      "text/plain": [
       "[[-4.6505700000000004e-05, 6.28235e-05, -4.60043e-05],\n",
       " [0.00015518620000000002, -8.95117e-05, 1.23169e-05],\n",
       " [0.00013808170000000002, 7.35648e-05, -0.0001386729],\n",
       " [0.0001514682, 0.0001375349, -0.0001967228],\n",
       " [0.0002220116, 2.14363e-05, -0.0002087706],\n",
       " [0.00016808250000000002, -1.8337600000000002e-05, -7.65467e-05],\n",
       " [0.00028035900000000004, -8.86109e-05, -8.72209e-05],\n",
       " [-2.20701e-05, -0.0001011589, 6.89518e-05]]"
      ]
     },
     "execution_count": 26,
     "metadata": {},
     "output_type": "execute_result"
    }
   ],
   "source": [
    "df_test.gradient_trajectory.iloc[-1][-1]"
   ]
  },
  {
   "cell_type": "code",
   "execution_count": 19,
   "metadata": {},
   "outputs": [
    {
     "name": "stdout",
     "output_type": "stream",
     "text": [
      "['O', 'C', 'O', 'Li', 'O', 'C', 'O']\n",
      "['O', 'C', 'O', 'O', 'Li', 'H', 'O', 'H']\n",
      "['O', 'C', 'O', 'O', 'C', 'O', 'C', 'C', 'O', 'O', 'Li', 'Li', 'H', 'H', 'H', 'H', 'O', 'C', 'O', 'Li', 'O', 'C', 'C', 'H', 'H', 'H', 'H']\n",
      "['O', 'C', 'O', 'Li', 'O', 'C', 'C', 'H', 'H', 'H', 'H', 'C', 'C', 'O', 'C', 'O', 'O', 'O', 'Li', 'H', 'H', 'H', 'H', 'H']\n",
      "['O', 'C', 'O', 'O', 'Li', 'H', 'O', 'H']\n",
      "['O', 'O', 'O', 'C', 'C', 'C', 'H', 'H']\n",
      "['C', 'C', 'O', 'C', 'O', 'O', 'Li', 'H', 'H', 'H', 'H', 'H', 'C', 'O', 'O', 'Li']\n",
      "['O', 'C', 'O', 'C', 'O', 'O', 'Li', 'C', 'O', 'O', 'Li']\n",
      "['H', 'C', 'C', 'O', 'C', 'O', 'O', 'O', 'Li', 'H', 'H', 'H', 'H', 'H']\n",
      "['O', 'C', 'C', 'O', 'C', 'O', 'O', 'H', 'H', 'H', 'H', 'H', 'C', 'O', 'O', 'Li', 'C', 'O', 'O', 'H']\n",
      "['O', 'C', 'C', 'Li', 'Li', 'H', 'H', 'H', 'H']\n",
      "['C', 'C', 'O', 'C', 'O', 'O', 'Li', 'H', 'H', 'H', 'H', 'H', 'O', 'H']\n",
      "['O', 'C', 'O', 'O', 'O', 'C', 'O', 'O', 'C', 'C', 'Li', 'H', 'H', 'H', 'H', 'H', 'O', 'H']\n",
      "['H', 'O', 'Li', 'O', 'C', 'O', 'C', 'C', 'H', 'H', 'H', 'H', 'H']\n",
      "['C', 'C', 'O', 'C', 'O', 'O', 'O', 'Li', 'H', 'H', 'H', 'H', 'H', 'O', 'H']\n",
      "['O', 'C', 'O', 'Li', 'O', 'C', 'C', 'H', 'H', 'H', 'H', 'C', 'C', 'O', 'C', 'O', 'O', 'O', 'Li', 'H', 'H', 'H', 'H', 'H']\n",
      "['O', 'C', 'O', 'O', 'C', 'H', 'H', 'C', 'H', 'H', 'O', 'C', 'C', 'O', 'O', 'C', 'Li', 'H', 'H', 'H', 'H']\n",
      "['O', 'C', 'O', 'Li', 'O', 'C', 'C', 'H', 'H', 'H', 'H', 'C', 'C', 'O', 'C', 'O', 'O', 'O', 'Li', 'H', 'H', 'H', 'H', 'H']\n",
      "['H', 'O', 'C', 'C', 'O', 'O', 'C', 'Li', 'H', 'H', 'H', 'H']\n",
      "['O', 'C', 'O', 'Li', 'O', 'C', 'C', 'H', 'H', 'H', 'H', 'C', 'C', 'O', 'H', 'H', 'H', 'H', 'H', 'H']\n",
      "['H', 'O', 'O', 'O', 'C', 'Li']\n",
      "['O', 'Li', 'O', 'C', 'O', 'C', 'C', 'H', 'H', 'H', 'H', 'O', 'H']\n",
      "['O', 'C', 'O', 'O', 'C', 'H', 'H', 'C', 'H', 'H', 'O', 'O', 'C', 'Li']\n",
      "['H', 'O', 'C', 'O', 'O', 'C', 'C', 'H', 'H', 'H', 'H', 'H']\n",
      "['O', 'C', 'O', 'Li', 'O', 'C', 'C', 'H', 'H', 'H', 'H', 'O', 'O', 'C', 'Li']\n",
      "['O', 'C', 'O', 'Li', 'O', 'C', 'C', 'H', 'H', 'H', 'H', 'O', 'C', 'O', 'Li', 'Li']\n",
      "['H', 'O', 'C', 'O', 'O', 'C', 'C', 'H', 'H', 'H', 'H', 'H']\n",
      "['H', 'O', 'C', 'H', 'H', 'C', 'H', 'H']\n",
      "['O', 'H', 'O', 'O', 'C']\n",
      "['O', 'C', 'O', 'O', 'C', 'O', 'C', 'C', 'O', 'O', 'Li', 'Li', 'H', 'H', 'H', 'H', 'O', 'C', 'O', 'Li', 'O', 'C', 'C', 'H', 'H', 'H', 'H']\n",
      "['O', 'O', 'O', 'C', 'C', 'C', 'H', 'H']\n",
      "['O', 'C', 'C', 'O', 'C', 'O', 'O', 'H', 'H', 'H', 'H', 'H', 'H', 'C', 'O', 'O', 'Li', 'C', 'O', 'O']\n",
      "['H', 'O', 'Li', 'O', 'C', 'O', 'C', 'C', 'H', 'H', 'H', 'H', 'H']\n",
      "['H', 'O', 'O', 'O', 'C', 'Li']\n",
      "['O', 'C', 'O', 'Li', 'O', 'C', 'C', 'H', 'H', 'H', 'H', 'O', 'C', 'O', 'Li', 'Li']\n",
      "['O', 'O', 'O', 'C', 'C', 'C', 'H', 'H']\n",
      "['C', 'C', 'O', 'C', 'O', 'O', 'Li', 'H', 'H', 'H', 'H', 'H', 'C', 'O', 'O', 'Li']\n",
      "['O', 'C', 'C', 'O', 'C', 'O', 'O', 'H', 'H', 'H', 'H', 'H', 'H', 'C', 'O', 'O', 'Li', 'C', 'O', 'O']\n",
      "['C', 'C', 'O', 'C', 'O', 'O', 'Li', 'H', 'H', 'H', 'H', 'H', 'O', 'H']\n",
      "['C', 'C', 'O', 'C', 'O', 'O', 'Li', 'H', 'H', 'H', 'H', 'H', 'O', 'H']\n",
      "['H', 'O', 'Li', 'O', 'C', 'O', 'C', 'C', 'H', 'H', 'H', 'H', 'H']\n",
      "['H', 'O', 'O', 'O', 'C', 'Li']\n",
      "['O', 'C', 'O', 'Li', 'O', 'C', 'C', 'H', 'H', 'H', 'H', 'O', 'C', 'O', 'Li', 'Li']\n",
      "['O', 'C', 'C', 'O', 'O', 'C', 'H', 'H', 'H', 'O', 'H']\n",
      "['C', 'C', 'H', 'H', 'H', 'H', 'O', 'Li']\n",
      "['C', 'O', 'Li', 'O', 'C', 'H', 'H', 'H']\n",
      "['O', 'C', 'C', 'O', 'O', 'C', 'H', 'H', 'H']\n",
      "['O', 'C', 'O', 'O', 'C', 'C', 'H', 'H', 'H', 'H', 'H']\n",
      "['C', 'C', 'O', 'H', 'H', 'H', 'H', 'H']\n",
      "['O', 'C', 'O', 'O', 'C', 'H', 'H', 'C', 'H', 'H', 'H']\n",
      "['C', 'C', 'O', 'H', 'H', 'H', 'C', 'O', 'O', 'H', 'O', 'O', 'C']\n",
      "['O', 'H', 'O', 'C', 'Li', 'O']\n",
      "['C', 'C', 'O', 'H', 'H', 'H', 'H', 'H', 'H', 'O', 'C', 'C', 'O', 'O', 'C', 'Li', 'H', 'H', 'H']\n",
      "['O', 'C', 'C', 'O', 'C', 'H', 'H', 'H', 'H', 'Li', 'O', 'O', 'O', 'C', 'C', 'O', 'O', 'Li']\n",
      "['O', 'C', 'O', 'O', 'C', 'H', 'H', 'H']\n",
      "['O', 'C', 'O', 'Li', 'O', 'C', 'C', 'H', 'H', 'H', 'H', 'C', 'C', 'O', 'C', 'O', 'Li', 'H', 'H', 'H', 'H', 'O', 'H']\n",
      "['H', 'O', 'C', 'C', 'O', 'O', 'C', 'Li', 'H', 'H', 'H', 'H']\n",
      "['O', 'C', 'O', 'O', 'Li', 'H', 'O', 'H']\n",
      "['O', 'C', 'O', 'C', 'O', 'O', 'Li', 'C', 'O', 'O', 'Li']\n",
      "['O', 'C', 'Li', 'O', 'C', 'H', 'H', 'H', 'O', 'H']\n",
      "['C', 'C', 'O', 'C', 'O', 'O', 'O', 'Li', 'H', 'H', 'H', 'H', 'H', 'O', 'H']\n",
      "['C', 'C', 'O', 'C', 'O', 'O', 'O', 'Li', 'H', 'H', 'H', 'H']\n",
      "['C', 'O', 'O', 'O', 'C', 'C', 'H', 'H', 'H', 'Li', 'H']\n",
      "['C', 'C', 'O', 'C', 'O', 'O', 'O', 'Li', 'H', 'H', 'H', 'H', 'H', 'C', 'C', 'O', 'H', 'H', 'H', 'H', 'H']\n",
      "['O', 'C', 'O', 'O', 'C', 'C', 'H', 'H', 'H', 'H']\n",
      "['O', 'C', 'C', 'O', 'Mg', 'H', 'H', 'H', 'O', 'H']\n",
      "['C', 'O', 'C', 'C', 'O', 'C', 'C', 'O', 'C', 'H', 'H', 'H', 'H', 'H', 'H', 'H', 'H', 'H', 'H', 'H', 'H', 'H', 'Mg', 'O', 'H']\n",
      "['O', 'C', 'C', 'O', 'C', 'Mg', 'H', 'H', 'H', 'H', 'H']\n",
      "['C', 'O', 'C', 'C', 'O', 'C', 'C', 'Mg', 'H', 'H', 'H', 'H', 'H', 'H', 'H', 'H', 'H', 'H']\n",
      "['O', 'C', 'C', 'O', 'C', 'C', 'O', 'Mg', 'H', 'H', 'H', 'H', 'H', 'H']\n",
      "['C', 'O', 'C', 'O', 'Mg', 'H', 'H', 'H']\n",
      "['O', 'C', 'O', 'C', 'C', 'O', 'C', 'Mg', 'H', 'H', 'H', 'H', 'H', 'H', 'H']\n",
      "['C', 'F', 'O', 'C', 'C', 'O', 'C', 'Mg', 'H', 'H', 'H', 'H', 'H', 'H', 'H']\n",
      "['O', 'C', 'C', 'O', 'C', 'C', 'O', 'C', 'Mg', 'H', 'H', 'H', 'H', 'H', 'H', 'H', 'H', 'H']\n",
      "['C', 'O', 'C', 'C', 'O', 'C', 'C', 'O', 'C', 'Mg', 'H', 'H', 'H', 'H', 'H', 'H', 'H', 'H', 'H', 'H', 'H', 'H', 'H']\n",
      "['C', 'O', 'C', 'C', 'O', 'C', 'C', 'O', 'C', 'Mg', 'H', 'H', 'H', 'H', 'H', 'H', 'H', 'H', 'H', 'H', 'H', 'H', 'H', 'H']\n",
      "['O', 'C', 'C', 'O', 'C', 'C', 'O', 'C', 'Mg', 'H', 'H', 'H', 'H', 'H', 'H', 'H', 'H', 'H', 'H', 'H']\n",
      "['C', 'O', 'C', 'C', 'O', 'C', 'C', 'O', 'C', 'Mg', 'H', 'H', 'H', 'H', 'H', 'H', 'H', 'H', 'H', 'H', 'H', 'H', 'H', 'H', 'O', 'H']\n",
      "['C', 'O', 'C', 'C', 'O', 'C', 'C', 'O', 'C', 'Mg', 'H', 'H', 'H', 'H', 'H', 'H', 'H', 'H', 'H', 'H', 'H', 'H', 'H']\n",
      "['C', 'O', 'C', 'C', 'O', 'C', 'C', 'O', 'C', 'Mg', 'H', 'H', 'H', 'H', 'H', 'H', 'H', 'H', 'H', 'H', 'H', 'H', 'H']\n",
      "['C', 'O', 'C', 'C', 'O', 'C', 'C', 'O', 'C', 'Mg', 'H', 'H', 'H', 'H', 'H', 'H', 'H', 'H', 'H', 'H', 'H', 'H', 'H', 'H']\n",
      "['C', 'O', 'C', 'C', 'O', 'C', 'C', 'O', 'C', 'Mg', 'H', 'H', 'H', 'H', 'H', 'H', 'H', 'H', 'H', 'H', 'H', 'H', 'H', 'H']\n",
      "['O', 'C', 'C', 'O', 'C', 'C', 'O', 'Mg', 'H', 'H', 'H', 'H', 'H', 'H', 'H', 'H', 'C', 'H', 'H', 'H']\n",
      "['O', 'C', 'C', 'O', 'C', 'C', 'O', 'Mg', 'H', 'H', 'H', 'H', 'H', 'H', 'H', 'H', 'C', 'H', 'H', 'H']\n",
      "['C', 'O', 'C', 'C', 'O', 'C', 'C', 'O', 'C', 'Mg', 'H', 'H', 'H', 'H', 'H', 'H', 'H', 'H', 'H', 'H', 'H', 'H', 'H', 'H', 'O', 'H']\n",
      "['C', 'O', 'C', 'C', 'O', 'C', 'C', 'O', 'C', 'Mg', 'H', 'H', 'H', 'H', 'H', 'H', 'H', 'H', 'H', 'H', 'H', 'H', 'H', 'H', 'O', 'H']\n",
      "['H', 'Li', 'O', 'O', 'C', 'C', 'O', 'C', 'H', 'H', 'H']\n",
      "['O', 'C', 'C', 'O', 'O', 'C', 'H', 'H', 'H', 'H', 'H', 'Li']\n",
      "['H', 'Li', 'O', 'O', 'C', 'C', 'O', 'C', 'H', 'H', 'H', 'O', 'C', 'C', 'O', 'C', 'H', 'H', 'H', 'H']\n",
      "['H', 'Li', 'O', 'O', 'C', 'C', 'O', 'C', 'H', 'H', 'H']\n",
      "['O', 'C', 'C', 'O', 'O', 'C', 'H', 'H', 'H', 'H', 'H', 'Li']\n",
      "['O', 'C', 'C', 'O', 'O', 'C', 'H', 'H', 'H', 'H', 'Li']\n",
      "['O', 'C', 'C', 'O', 'O', 'C', 'H', 'H', 'H', 'H', 'Li', 'Li']\n",
      "['H', 'Li', 'O', 'O', 'C', 'C', 'O', 'C', 'H', 'H', 'H']\n",
      "['O', 'C', 'C', 'O', 'O', 'C', 'H', 'H', 'H', 'H', 'Li', 'Li']\n",
      "['O', 'C', 'C', 'O', 'O', 'C', 'H', 'H', 'H', 'H', 'Li', 'Li']\n",
      "['H', 'Li', 'O', 'O', 'C', 'C', 'O', 'C', 'H', 'H', 'H']\n",
      "['H', 'Li', 'O', 'O', 'C', 'C', 'O', 'C', 'H', 'H', 'H']\n",
      "['O', 'C', 'C', 'O', 'O', 'C', 'H', 'H', 'H', 'H', 'O', 'H']\n",
      "['C', 'O', 'O', 'Li', 'O', 'C', 'O', 'Li']\n",
      "['C', 'O', 'O', 'Li', 'O', 'C', 'O', 'Li']\n"
     ]
    }
   ],
   "source": [
    "for row in range(len(df_test)):\n",
    "    for i in df_test.iloc[row].molecule_trajectory:\n",
    "        temp_elems = []\n",
    "        for elem in i[\"sites\"]:\n",
    "            temp_elems.append(elem[\"name\"])\n",
    "    print(temp_elems)"
   ]
  },
  {
   "cell_type": "code",
   "execution_count": 22,
   "metadata": {},
   "outputs": [
    {
     "name": "stdout",
     "output_type": "stream",
     "text": [
      "['C', 'O', 'O', 'Li', 'O', 'C', 'O', 'Li']\n",
      "[1.5362231450000001, -1.1529138867, 5.1436101319]\n",
      "[2.4382171232, -2.0044251057, 5.0330986584]\n",
      "[0.5369674072, -1.2460568072, 5.8964110607]\n",
      "[-0.5335224413, 0.2924998706, 5.7119458427000005]\n",
      "[0.6717651668, 0.9713326377, 4.4601161908]\n",
      "[1.6311435484999999, 0.1637504719, 4.2793764081]\n",
      "[2.5902353973, 0.31087090030000003, 3.5193237376]\n",
      "[3.5946434086, -3.3554645721, 4.8441245617]\n"
     ]
    }
   ],
   "source": [
    "for i in df_test.iloc[-1].molecule_trajectory:\n",
    "    temp_coord, temp_elems = [], []\n",
    "\n",
    "    for elem in i[\"sites\"]:\n",
    "        temp_elems.append(elem[\"name\"])\n",
    "        temp_coord.append(elem[\"xyz\"])\n",
    "print(temp_elems)\n",
    "for i in temp_coord: \n",
    "    print(i)"
   ]
  },
  {
   "cell_type": "code",
   "execution_count": null,
   "metadata": {},
   "outputs": [],
   "source": []
  }
 ],
 "metadata": {
  "kernelspec": {
   "display_name": "berkeley_pes",
   "language": "python",
   "name": "python3"
  },
  "language_info": {
   "codemirror_mode": {
    "name": "ipython",
    "version": 3
   },
   "file_extension": ".py",
   "mimetype": "text/x-python",
   "name": "python",
   "nbconvert_exporter": "python",
   "pygments_lexer": "ipython3",
   "version": "3.7.0"
  },
  "orig_nbformat": 4
 },
 "nbformat": 4,
 "nbformat_minor": 2
}
